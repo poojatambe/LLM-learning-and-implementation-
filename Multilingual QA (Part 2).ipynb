{
 "cells": [
  {
   "cell_type": "markdown",
   "id": "258924eb-3c06-4d5f-95ff-d24e298bb5fb",
   "metadata": {},
   "source": [
    "# Multilingual QA (Part 2)"
   ]
  },
  {
   "cell_type": "markdown",
   "id": "84398f2d-d1d9-45c9-815f-677b380d91b9",
   "metadata": {},
   "source": [
    "To implement multilingual QA, **translation** step has added at the query part.\n",
    "\n",
    "Steps:\n",
    "1. The data preparation contains PDF data loading, text splitting.\n",
    "2. Document embeddings created.\n",
    "3. Created Faiss vector store and embedded documents are inserted in the vector store.\n",
    "4. The query is translated to english language.\n",
    "5. The retrieval process is implemented with English translated query.\n",
    "6. For answer generation original query is used with retrieved documents."
   ]
  },
  {
   "cell_type": "markdown",
   "id": "2114b071-f668-4b32-b3b2-fd561880c6bd",
   "metadata": {},
   "source": [
    "## Import libraries"
   ]
  },
  {
   "cell_type": "code",
   "execution_count": 1,
   "id": "055c7f4c-c734-4b54-86d3-6d4fefbb592f",
   "metadata": {},
   "outputs": [],
   "source": [
    "from langchain_community.document_loaders import PDFPlumberLoader\n",
    "from langchain_community.embeddings.huggingface import HuggingFaceEmbeddings\n",
    "from langchain_community.vectorstores.faiss import FAISS\n",
    "from langchain_text_splitters import RecursiveCharacterTextSplitter\n",
    "from langchain_community.docstore.in_memory import InMemoryDocstore\n",
    "import faiss\n",
    "from langchain_google_genai.chat_models import ChatGoogleGenerativeAI\n",
    "from langchain.prompts import PromptTemplate"
   ]
  },
  {
   "cell_type": "markdown",
   "id": "89582898-f29c-4471-b032-cc2a99c80de4",
   "metadata": {},
   "source": [
    "## Data preparation"
   ]
  },
  {
   "cell_type": "code",
   "execution_count": 3,
   "id": "da26bd9c-ea45-4b0b-8a4f-36b007183b85",
   "metadata": {},
   "outputs": [
    {
     "name": "stdout",
     "output_type": "stream",
     "text": [
      "no of chunks:  53\n"
     ]
    }
   ],
   "source": [
    "# loading pdf data and chunking\n",
    "\n",
    "pdf_data = PDFPlumberLoader(\"./sample_data/2306.04542v3.pdf\").load()\n",
    "splitter = RecursiveCharacterTextSplitter.from_tiktoken_encoder(\n",
    "    chunk_size=1000,\n",
    "    chunk_overlap=50,\n",
    ")\n",
    "data_splits = splitter.split_documents(pdf_data)\n",
    "print(\"no of chunks: \", len(data_splits))\n"
   ]
  },
  {
   "cell_type": "markdown",
   "id": "5d0691bd-b720-4550-98e0-00c00e8c696c",
   "metadata": {},
   "source": [
    "## Document Embedding and Vector store creation"
   ]
  },
  {
   "cell_type": "code",
   "execution_count": 2,
   "id": "cfee3ee2-2977-43f0-8c2b-cb086805111e",
   "metadata": {},
   "outputs": [
    {
     "name": "stderr",
     "output_type": "stream",
     "text": [
      "C:\\Users\\pooja\\AppData\\Local\\Temp\\ipykernel_11096\\989037547.py:3: LangChainDeprecationWarning: The class `HuggingFaceEmbeddings` was deprecated in LangChain 0.2.2 and will be removed in 1.0. An updated version of the class exists in the :class:`~langchain-huggingface package and should be used instead. To use it run `pip install -U :class:`~langchain-huggingface` and import as `from :class:`~langchain_huggingface import HuggingFaceEmbeddings``.\n",
      "  embeddings = HuggingFaceEmbeddings(\n"
     ]
    }
   ],
   "source": [
    "# multilingual huggingface embedding model\n",
    "model_name = \"thenlper/gte-base\"\n",
    "embeddings = HuggingFaceEmbeddings(\n",
    "                model_name=model_name,\n",
    "                model_kwargs={\"device\": \"cpu\", \"trust_remote_code\": True},\n",
    "                encode_kwargs={\"normalize_embeddings\": True},\n",
    "            )"
   ]
  },
  {
   "cell_type": "code",
   "execution_count": 4,
   "id": "8b9da302-9fcf-4023-8588-bcbc4ae49f31",
   "metadata": {},
   "outputs": [],
   "source": [
    "# create faiss vectorstore\n",
    "vector_store = FAISS(\n",
    "    embedding_function=embeddings,\n",
    "    index=faiss.IndexFlatL2(768),\n",
    "    docstore=InMemoryDocstore(),\n",
    "    index_to_docstore_id={},\n",
    ")\n",
    "# print(vector_store)\n",
    "vector_store.add_documents(documents=data_splits)"
   ]
  },
  {
   "cell_type": "code",
   "execution_count": 11,
   "id": "17976682-f14f-4734-acca-cf351ba623ee",
   "metadata": {},
   "outputs": [
    {
     "data": {
      "text/plain": [
       "<langchain_community.vectorstores.faiss.FAISS at 0x1c101c96290>"
      ]
     },
     "execution_count": 11,
     "metadata": {},
     "output_type": "execute_result"
    }
   ],
   "source": [
    "vector_store.save_local('faiss_index_2')"
   ]
  },
  {
   "cell_type": "code",
   "execution_count": 12,
   "id": "de3063ac-697a-41d2-bd8f-d2f48f1d57c9",
   "metadata": {},
   "outputs": [],
   "source": [
    "# Retriever\n",
    "retriever = vector_store.as_retriever()"
   ]
  },
  {
   "cell_type": "markdown",
   "id": "e9411efa-6f68-49ae-afc1-fead63d2374e",
   "metadata": {},
   "source": [
    "## Query translation to english"
   ]
  },
  {
   "cell_type": "code",
   "execution_count": 13,
   "id": "2fc51b29-af7f-4f71-811d-003c9b728278",
   "metadata": {},
   "outputs": [],
   "source": [
    "# translation chain\n",
    "\n",
    "llm = ChatGoogleGenerativeAI(model=\"gemini-1.5-pro\", google_api_key=\"google_api_key\")\n",
    "prompt = PromptTemplate.from_template(\"Translate the query{query} to english language if its not in english. Only output translated query.\")\n",
    "translate_chain = prompt | llm"
   ]
  },
  {
   "cell_type": "code",
   "execution_count": 15,
   "id": "b2cf8b8d-59ad-4d10-82fd-be0b81166d84",
   "metadata": {},
   "outputs": [
    {
     "name": "stdout",
     "output_type": "stream",
     "text": [
      "English translated query:  What happens in the forward process of the diffusion model? \n",
      "\n"
     ]
    }
   ],
   "source": [
    "# Multilingual query translation\n",
    "query = \"Que se passe-t-il dans le processus avancé du modèle de diffusion ?\"\n",
    "translated_query = translate_chain.invoke({'query': query})\n",
    "print(\"English translated query: \", translated_query.content)"
   ]
  },
  {
   "cell_type": "markdown",
   "id": "2aa3c1e4-f22a-4749-9221-81bd789eddae",
   "metadata": {},
   "source": [
    "## Retrieval"
   ]
  },
  {
   "cell_type": "code",
   "execution_count": 16,
   "id": "d66423cf-2ea5-4d2c-bc7c-c978c332aad9",
   "metadata": {},
   "outputs": [],
   "source": [
    "out_docs = retriever.invoke(translated_query.content)\n",
    "context = \"\\n--\\n\".join(doc.page_content for doc in out_docs)"
   ]
  },
  {
   "cell_type": "code",
   "execution_count": 17,
   "id": "4640cace-7323-4272-9fa0-0d2da9efab92",
   "metadata": {},
   "outputs": [
    {
     "name": "stdout",
     "output_type": "stream",
     "text": [
      "Retrieval output: \n",
      "\n",
      "Document:  1\n",
      "On the Design Fundamentals of Diffusion\n",
      "Models: A Survey - Supplementary Material\n",
      "Ziyi Chang, George Koulieris, Hubert P. H. Shum, Senior Member, IEEE\n",
      "✦\n",
      "1 DERIVATION OF THE FORWARD PROCESS Mathemati\n",
      "****************************************************************************************************\n",
      "Document:  4\n",
      "whereβ\n",
      "t\n",
      "isthenoiseschedule,whichisahyper-parameter 3 THE FORWARD PROCESS\n",
      "tocontroltheamountofnoisetobeaddedineachtimestep.\n",
      "The forward process defines the way data to be perturbed\n",
      "Asallforwardtrans\n",
      "****************************************************************************************************\n",
      "Document:  1\n",
      "On the Design Fundamentals of\n",
      "Diffusion Models: A Survey\n",
      "Ziyi Chang, George Koulieris, Hubert P. H. Shum, Senior Member, IEEE\n",
      "Abstract—Diffusionmodelsaregenerativemodels,whichgraduallyaddandremoveno\n",
      "****************************************************************************************************\n",
      "Document:  2\n",
      "Fig.1.Theoverviewofdiffusionmodels.Theforwardprocess,thereverseprocess,andthesamplingprocedurearethethreecorecomponentsof\n",
      "diffusionmodels,whichareresponsibleforaddingnoise,trainingnetworks,andgenera\n",
      "****************************************************************************************************\n"
     ]
    }
   ],
   "source": [
    "print(\"Retrieval output: \\n\")\n",
    "for doc in out_docs :\n",
    "    print(\"Document: \", doc.page_content[0:200])\n",
    "    print(\"*\"*100)"
   ]
  },
  {
   "cell_type": "markdown",
   "id": "ef3a5c9e-2d8a-4a12-86a7-509ea66f1168",
   "metadata": {},
   "source": [
    "## Question Answering"
   ]
  },
  {
   "cell_type": "code",
   "execution_count": 18,
   "id": "3ca5c010-e36c-4073-866b-75bd1d7e592a",
   "metadata": {},
   "outputs": [],
   "source": [
    "ans_prompt = PromptTemplate.from_template(\"You are a helpful multilingual assistant. Answer user's {query} from given {context} in same language as query.\")\n",
    "ans_chain = ans_prompt | llm"
   ]
  },
  {
   "cell_type": "code",
   "execution_count": 19,
   "id": "cc506b2f-a832-48c8-9eb6-b19b87c6824c",
   "metadata": {},
   "outputs": [],
   "source": [
    "response = ans_chain.invoke({'query': query, \n",
    "                 'context': context})"
   ]
  },
  {
   "cell_type": "code",
   "execution_count": 21,
   "id": "a294b781-7893-4105-9cc3-ffedeab91c91",
   "metadata": {},
   "outputs": [
    {
     "name": "stdout",
     "output_type": "stream",
     "text": [
      "query: \n",
      " Que se passe-t-il dans le processus avancé du modèle de diffusion ?\n",
      "response: \n",
      " Que se passe-t-il dans le processus avancé du modèle de diffusion ?\n",
      "\n",
      "Le processus avancé, également appelé processus de diffusion, perturbe un exemple d'apprentissage  $x_0$ à mesure que le pas de temps $t$ augmente, comme illustré dans la Figure 2. Une transition avancée $p(x_t | x_{t-1})$ décrit une telle perturbation où une petite quantité de bruit  $\\epsilon_t$ est ajoutée entre deux pas de temps. En d'autres termes, à mesure que le processus avancé progresse dans la chaîne, de plus en plus de bruit est ajouté par $p(x_t | x_{t-1})$ et l'échantillon perturbé $x_t$ devient de plus en plus bruyant. Après plusieurs pas de temps, la distribution originale $p(x_0)$ est finalement perturbée en une distribution terminale traitable $p(x_T)$ qui est généralement définie comme une distribution isotrope gaussienne, c'est-à-dire $x_T \\sim \\mathcal{N}(0,I)$ , où $I$ est la matrice d'identité. \n",
      "\n"
     ]
    }
   ],
   "source": [
    "print(\"query: \\n\",query)\n",
    "print(\"response: \\n\", response.content)"
   ]
  },
  {
   "cell_type": "markdown",
   "id": "3f6fea06-0bc5-4b2a-9468-165fd421d57a",
   "metadata": {},
   "source": [
    "**Translated output:**\n",
    "\n",
    "What happens in the advanced process of the diffusion model?\n",
    "\n",
    "The forward process, also called the diffusion process, perturbs a training example $x_0$ as the time step $t$ increases, as shown in Figure 2. An advanced transition $p(x_t | x_{t- 1})$ describes such a disturbance where a small amount of noise $\\epsilon_t$ is added between two time steps. In other words, as the forward process progresses through the chain, more and more noise is added by $p(x_t | x_{t-1})$ and the perturbed sample $x_t$ becomes more and noisier. After several time steps, the original distribution $p(x_0)$ is finally perturbed into a tractable terminal distribution $p(x_T)$ which is usually defined as a Gaussian isotropic distribution, i.e. $x_T \\sim \\mathcal{N}(0,I)$ , where $I$ is the identity matrix."
   ]
  },
  {
   "cell_type": "code",
   "execution_count": null,
   "id": "39082a80-c459-472b-8a59-0fd4feaf5cda",
   "metadata": {},
   "outputs": [],
   "source": []
  }
 ],
 "metadata": {
  "kernelspec": {
   "display_name": "Python 3 (ipykernel)",
   "language": "python",
   "name": "python3"
  },
  "language_info": {
   "codemirror_mode": {
    "name": "ipython",
    "version": 3
   },
   "file_extension": ".py",
   "mimetype": "text/x-python",
   "name": "python",
   "nbconvert_exporter": "python",
   "pygments_lexer": "ipython3",
   "version": "3.11.0"
  }
 },
 "nbformat": 4,
 "nbformat_minor": 5
}
