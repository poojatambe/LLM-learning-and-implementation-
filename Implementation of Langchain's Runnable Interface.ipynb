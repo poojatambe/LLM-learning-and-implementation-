{
 "cells": [
  {
   "cell_type": "markdown",
   "id": "c4bb5da4",
   "metadata": {},
   "source": [
    "# Langchain Expression Language (LCEL)"
   ]
  },
  {
   "cell_type": "markdown",
   "id": "90ce681d",
   "metadata": {},
   "source": [
    "**With Runnable interface creating custom chain becomes easy. Langchains components like LLMs, retriever, output_parser, etc follows Runnable.**"
   ]
  },
  {
   "cell_type": "code",
   "execution_count": 19,
   "id": "a6ee9cad",
   "metadata": {},
   "outputs": [],
   "source": [
    "# !pip install -U langchain-google-genai\n",
    "# !where python\n",
    "# !pip install langchain "
   ]
  },
  {
   "cell_type": "code",
   "execution_count": 1,
   "id": "cad5e4ec",
   "metadata": {},
   "outputs": [
    {
     "name": "stderr",
     "output_type": "stream",
     "text": [
      "C:\\Users\\pooja\\AppData\\Local\\Programs\\Python\\Python311\\Lib\\site-packages\\IPython\\core\\interactiveshell.py:3577: LangChainDeprecationWarning: As of langchain-core 0.3.0, LangChain uses pydantic v2 internally. The langchain_core.pydantic_v1 module was a compatibility shim for pydantic v1, and should no longer be used. Please update the code to import from Pydantic directly.\n",
      "\n",
      "For example, replace imports like: `from langchain_core.pydantic_v1 import BaseModel`\n",
      "with: `from pydantic import BaseModel`\n",
      "or the v1 compatibility namespace if you are working in a code base that has not been fully upgraded to pydantic 2 yet. \tfrom pydantic.v1 import BaseModel\n",
      "\n",
      "  exec(code_obj, self.user_global_ns, self.user_ns)\n"
     ]
    }
   ],
   "source": [
    "from langchain_google_genai import ChatGoogleGenerativeAI\n",
    "from langchain.prompts import PromptTemplate\n",
    "from langchain.chains import LLMChain\n",
    "from langchain_core.runnables import RunnableParallel, RunnablePassthrough, RunnableLambda, Runnable\n",
    "from langchain_core.output_parsers import JsonOutputParser\n",
    "from langchain_core.pydantic_v1 import BaseModel, Field\n",
    "\n",
    "llm = ChatGoogleGenerativeAI(model=\"gemini-1.5-flash\", google_api_key=\"\")"
   ]
  },
  {
   "cell_type": "markdown",
   "id": "cf2314a9",
   "metadata": {},
   "source": [
    "## Pipe operator: Sequential Chaining\n",
    "\n",
    "**With Pipe operator, two runnables can be chained together sequentially. The resulting sequence is also a runnable component.**\n",
    "\n",
    "**The output of previous runnable component is passed as input to next component.**"
   ]
  },
  {
   "cell_type": "code",
   "execution_count": 9,
   "id": "b7416625",
   "metadata": {},
   "outputs": [],
   "source": [
    "# create a chain to translate content to english.\n",
    "prompt = PromptTemplate.from_template(\"Translate the {text} to english\")\n",
    "\n",
    "# define chain using LLMchain\n",
    "chain = LLMChain(llm=llm, prompt=prompt)\n",
    "\n",
    "# define chain using pipe operator\n",
    "pipe_chain = prompt | llm "
   ]
  },
  {
   "cell_type": "code",
   "execution_count": 15,
   "id": "4638ef1d",
   "metadata": {},
   "outputs": [
    {
     "name": "stdout",
     "output_type": "stream",
     "text": [
      "Output of chain using LLMChain function: \n",
      " {'text': 'Generative AI or generative artificial intelligence refers to the use of AI to create new content such as text, images, music, audio and video. \\n'}\n"
     ]
    }
   ],
   "source": [
    "text = \"\"\"\n",
    "Generative KI oder generative künstliche Intelligenz bezieht sich auf die Verwendung von KI zum Erstellen neuer Inhalte wie Texte, Bilder, Musik, Audio und Videos.\n",
    "\"\"\"\n",
    "\n",
    "output = chain.invoke({\"text\": text})\n",
    "print('Output of chain using LLMChain function: \\n', output)"
   ]
  },
  {
   "cell_type": "code",
   "execution_count": 12,
   "id": "a0ecc09d",
   "metadata": {},
   "outputs": [
    {
     "name": "stdout",
     "output_type": "stream",
     "text": [
      "Output of chain using pipe operator: \n",
      " Generative AI, or generative artificial intelligence, refers to the use of AI to create new content such as text, images, music, audio, and videos. \n",
      "\n"
     ]
    }
   ],
   "source": [
    "pipe_output = pipe_chain.invoke({\"text\": text})\n",
    "print('Output of chain using pipe operator: \\n', pipe_output.content)"
   ]
  },
  {
   "cell_type": "markdown",
   "id": "d05ad206",
   "metadata": {},
   "source": [
    "## RunnableLambda\n",
    "\n",
    "**To convert custom functions to runnable compatible RunnableLambda is used.**"
   ]
  },
  {
   "cell_type": "code",
   "execution_count": 70,
   "id": "9df427da",
   "metadata": {},
   "outputs": [],
   "source": [
    "template = \"\"\"\n",
    "Detect language of the {text}. Translate it to english.\n",
    "{format_instructions}\n",
    "\"\"\"\n",
    "\n",
    "class language(BaseModel):\n",
    "    language: str = Field(description=\"Detected language\")\n",
    "    translation: str = Field(description=\"English tranlation\")   "
   ]
  },
  {
   "cell_type": "markdown",
   "id": "51c5ff56-9077-4ee7-bd97-f80a53645fae",
   "metadata": {},
   "source": [
    "**The following chain will output language and translation based on pydantic object. But final output is altered to translation with custom python function. This function is converted to runnable compatible with RunnableLambda.** "
   ]
  },
  {
   "cell_type": "code",
   "execution_count": 71,
   "id": "acd15802",
   "metadata": {},
   "outputs": [],
   "source": [
    "parser = JsonOutputParser(pydantic_object=language)\n",
    "prompt = PromptTemplate(template=template,\n",
    "                        input_varibles=['text'],\n",
    "                       partial_variables={'format_instructions': parser.get_format_instructions()})\n",
    "lambda_chain = prompt | llm | parser | RunnableLambda(lambda x: x['translation'])"
   ]
  },
  {
   "cell_type": "code",
   "execution_count": 72,
   "id": "9967d332-c37e-446d-9f95-8325a365eb5e",
   "metadata": {},
   "outputs": [],
   "source": [
    "content = \"\"\"\n",
    "Generative KI oder generative künstliche Intelligenz bezieht sich auf die Verwendung von KI zum Erstellen neuer Inhalte wie Texte, Bilder, Musik, Audio und Videos.\n",
    "\"\"\"\n",
    "\n",
    "lambda_output = lambda_chain.invoke({\"text\": content})"
   ]
  },
  {
   "cell_type": "code",
   "execution_count": 74,
   "id": "4aa1e47e-f088-4b17-bf4a-aa2f0546f157",
   "metadata": {},
   "outputs": [
    {
     "name": "stdout",
     "output_type": "stream",
     "text": [
      "Runnablelamda altered output: \n",
      " Generative AI or generative artificial intelligence refers to the use of AI to create new content such as text, images, music, audio and videos.\n"
     ]
    }
   ],
   "source": [
    "print(\"Runnablelamda altered output: \\n\", lambda_output)"
   ]
  },
  {
   "cell_type": "markdown",
   "id": "3aee4af7-0550-44b9-9c0c-a48cefe406b5",
   "metadata": {},
   "source": [
    "## RunnableParallel"
   ]
  },
  {
   "cell_type": "markdown",
   "id": "82c0ca5b-a68f-4d62-b897-6166cb1bcc54",
   "metadata": {},
   "source": [
    "**As name suggests, the RunnableParallel helps to execute 2 chains in parallel.**\n",
    "\n",
    "**The first chain detects language and other translates the given content. The output of RunnableParallel contains language and translation.**"
   ]
  },
  {
   "cell_type": "code",
   "execution_count": 75,
   "id": "b5474537-1c05-4526-be14-1f8dfdd50cfc",
   "metadata": {},
   "outputs": [],
   "source": [
    "template1 = \"\"\"\n",
    "Detect language of the {text}.\n",
    "\"\"\"\n",
    "prompt1 = PromptTemplate.from_template(template1)\n",
    "chain1 = prompt1 | llm"
   ]
  },
  {
   "cell_type": "code",
   "execution_count": 76,
   "id": "0d5c1054-8077-4a5d-aac4-46980c6e4e89",
   "metadata": {},
   "outputs": [],
   "source": [
    "template2 = \"\"\"\n",
    "Translate the {text} to English.\n",
    "\"\"\"\n",
    "prompt2 = PromptTemplate.from_template(template2)\n",
    "chain2 = prompt2 | llm"
   ]
  },
  {
   "cell_type": "code",
   "execution_count": 80,
   "id": "0108cdf3",
   "metadata": {},
   "outputs": [],
   "source": [
    "content = \"\"\"\n",
    "Generative KI oder generative künstliche Intelligenz bezieht sich auf die Verwendung von KI zum Erstellen neuer Inhalte wie Texte, Bilder, Musik, Audio und Videos.\n",
    "\"\"\"\n",
    "\n",
    "parallel_chain = RunnableParallel(translate=chain2, Language=chain1)\n",
    "parallel_output = parallel_chain.invoke({\"text\": content})"
   ]
  },
  {
   "cell_type": "code",
   "execution_count": 86,
   "id": "2e46f613-a7a5-4c0b-af54-b47496c68893",
   "metadata": {},
   "outputs": [
    {
     "name": "stdout",
     "output_type": "stream",
     "text": [
      "RunnableParallel output: \n",
      "\n",
      "translation: \n",
      " content='Generative AI, or generative artificial intelligence, refers to the use of AI to create new content such as text, images, music, audio, and video. \\n' additional_kwargs={} response_metadata={'prompt_feedback': {'block_reason': 0, 'safety_ratings': []}, 'finish_reason': 'STOP', 'safety_ratings': [{'category': 'HARM_CATEGORY_SEXUALLY_EXPLICIT', 'probability': 'NEGLIGIBLE', 'blocked': False}, {'category': 'HARM_CATEGORY_HATE_SPEECH', 'probability': 'NEGLIGIBLE', 'blocked': False}, {'category': 'HARM_CATEGORY_HARASSMENT', 'probability': 'NEGLIGIBLE', 'blocked': False}, {'category': 'HARM_CATEGORY_DANGEROUS_CONTENT', 'probability': 'NEGLIGIBLE', 'blocked': False}]} id='run-f74268b4-c06c-4153-bb53-66977cd36514-0' usage_metadata={'input_tokens': 43, 'output_tokens': 32, 'total_tokens': 75}\n",
      "****************************************************************************************************\n",
      "language: \n",
      " content='The language is **German**. \\n\\nThe sentence is: \"Generative KI oder generative künstliche Intelligenz bezieht sich auf die Verwendung von KI zum Erstellen neuer Inhalte wie Texte, Bilder, Musik, Audio und Videos.\"\\n\\nThis translates to: \"Generative AI or generative artificial intelligence refers to the use of AI to create new content such as text, images, music, audio and video.\" \\n' additional_kwargs={} response_metadata={'prompt_feedback': {'block_reason': 0, 'safety_ratings': []}, 'finish_reason': 'STOP', 'safety_ratings': [{'category': 'HARM_CATEGORY_SEXUALLY_EXPLICIT', 'probability': 'NEGLIGIBLE', 'blocked': False}, {'category': 'HARM_CATEGORY_HATE_SPEECH', 'probability': 'NEGLIGIBLE', 'blocked': False}, {'category': 'HARM_CATEGORY_HARASSMENT', 'probability': 'NEGLIGIBLE', 'blocked': False}, {'category': 'HARM_CATEGORY_DANGEROUS_CONTENT', 'probability': 'NEGLIGIBLE', 'blocked': False}]} id='run-d77de052-634f-489a-a435-f0b6b16364d8-0' usage_metadata={'input_tokens': 43, 'output_tokens': 80, 'total_tokens': 123}\n"
     ]
    }
   ],
   "source": [
    "print('RunnableParallel output: \\n')\n",
    "print('translation: \\n', parallel_output['translate'])\n",
    "print('*' * 100)\n",
    "print('language: \\n', parallel_output['Language'])"
   ]
  },
  {
   "cell_type": "markdown",
   "id": "8e273f40-d84d-48be-8bfd-e616de52e181",
   "metadata": {},
   "source": [
    "## RunnablePassthrough"
   ]
  },
  {
   "cell_type": "markdown",
   "id": "4dade1fc-ae29-462b-aaec-3f8106335157",
   "metadata": {},
   "source": [
    "**RunnablePassthrough allows to pass values without any change.**"
   ]
  },
  {
   "cell_type": "code",
   "execution_count": 2,
   "id": "177695c8-e7c9-4319-a4c3-c19a7b17d899",
   "metadata": {},
   "outputs": [],
   "source": [
    "template = \"\"\"\n",
    "Translate the {text} to English.\n",
    "\"\"\"\n",
    "prompt = PromptTemplate.from_template(template)\n",
    "chain = prompt | llm"
   ]
  },
  {
   "cell_type": "markdown",
   "id": "b2664ab9-e2f4-465e-b366-ba0c7fd8f47d",
   "metadata": {},
   "source": [
    "**The text varible passes original content a it is with translate varible containing chain output in parallel.**"
   ]
  },
  {
   "cell_type": "code",
   "execution_count": 4,
   "id": "cc5bdd50",
   "metadata": {},
   "outputs": [],
   "source": [
    "content = \"\"\"\n",
    "Generative KI oder generative künstliche Intelligenz bezieht sich auf die Verwendung von KI zum Erstellen neuer Inhalte wie Texte, Bilder, Musik, Audio und Videos.\n",
    "\"\"\"\n",
    "\n",
    "pass_chain = RunnableParallel(translate=chain, text=RunnablePassthrough())\n",
    "pass_output = pass_chain.invoke({\"text\": content})"
   ]
  },
  {
   "cell_type": "code",
   "execution_count": 6,
   "id": "4495c0a7-536b-4376-ba50-320e694b5cbb",
   "metadata": {},
   "outputs": [
    {
     "name": "stdout",
     "output_type": "stream",
     "text": [
      "RunnablePassthrough output: \n",
      " {'translate': AIMessage(content='Generative AI, or generative artificial intelligence, refers to the use of AI to create new content such as text, images, music, audio, and video. \\n', additional_kwargs={}, response_metadata={'prompt_feedback': {'block_reason': 0, 'safety_ratings': []}, 'finish_reason': 'STOP', 'safety_ratings': [{'category': 'HARM_CATEGORY_SEXUALLY_EXPLICIT', 'probability': 'NEGLIGIBLE', 'blocked': False}, {'category': 'HARM_CATEGORY_HATE_SPEECH', 'probability': 'NEGLIGIBLE', 'blocked': False}, {'category': 'HARM_CATEGORY_HARASSMENT', 'probability': 'NEGLIGIBLE', 'blocked': False}, {'category': 'HARM_CATEGORY_DANGEROUS_CONTENT', 'probability': 'NEGLIGIBLE', 'blocked': False}]}, id='run-38b78e0d-75f6-4c15-87b1-c5c703ec8c63-0', usage_metadata={'input_tokens': 43, 'output_tokens': 32, 'total_tokens': 75}), 'text': {'text': '\\nGenerative KI oder generative künstliche Intelligenz bezieht sich auf die Verwendung von KI zum Erstellen neuer Inhalte wie Texte, Bilder, Musik, Audio und Videos.\\n'}}\n",
      "****************************************************************************************************\n",
      "Passthrough value:  {'text': '\\nGenerative KI oder generative künstliche Intelligenz bezieht sich auf die Verwendung von KI zum Erstellen neuer Inhalte wie Texte, Bilder, Musik, Audio und Videos.\\n'}\n",
      "****************************************************************************************************\n",
      "translation output:  content='Generative AI, or generative artificial intelligence, refers to the use of AI to create new content such as text, images, music, audio, and video. \\n' additional_kwargs={} response_metadata={'prompt_feedback': {'block_reason': 0, 'safety_ratings': []}, 'finish_reason': 'STOP', 'safety_ratings': [{'category': 'HARM_CATEGORY_SEXUALLY_EXPLICIT', 'probability': 'NEGLIGIBLE', 'blocked': False}, {'category': 'HARM_CATEGORY_HATE_SPEECH', 'probability': 'NEGLIGIBLE', 'blocked': False}, {'category': 'HARM_CATEGORY_HARASSMENT', 'probability': 'NEGLIGIBLE', 'blocked': False}, {'category': 'HARM_CATEGORY_DANGEROUS_CONTENT', 'probability': 'NEGLIGIBLE', 'blocked': False}]} id='run-38b78e0d-75f6-4c15-87b1-c5c703ec8c63-0' usage_metadata={'input_tokens': 43, 'output_tokens': 32, 'total_tokens': 75}\n"
     ]
    }
   ],
   "source": [
    "print('RunnablePassthrough output: \\n', pass_output)\n",
    "print(\"*\"*100)\n",
    "print('Passthrough value: ', pass_output['text'])\n",
    "print(\"*\"*100)\n",
    "print('translation output: ', pass_output['translate'])"
   ]
  },
  {
   "cell_type": "markdown",
   "id": "a21d760b-3a88-4756-934d-a3eee70d686e",
   "metadata": {},
   "source": [
    "## RunnablePassthrough.assign"
   ]
  },
  {
   "cell_type": "markdown",
   "id": "faff0328-f96f-4845-964d-79fdd6389997",
   "metadata": {},
   "source": [
    "**The assign method add extra variable to the current chain output.**"
   ]
  },
  {
   "cell_type": "code",
   "execution_count": 22,
   "id": "dc2e2d0a",
   "metadata": {},
   "outputs": [],
   "source": [
    "template2 = \"\"\"\n",
    "Translate the {text} to English.\n",
    "\"\"\"\n",
    "prompt2 = PromptTemplate.from_template(template2)\n",
    "chain2 = prompt2 | llm"
   ]
  },
  {
   "cell_type": "code",
   "execution_count": 23,
   "id": "ecf4e823",
   "metadata": {},
   "outputs": [],
   "source": [
    "content = \"\"\"\n",
    "Generative KI oder generative künstliche Intelligenz bezieht sich auf die Verwendung von KI zum Erstellen neuer Inhalte wie Texte, Bilder, Musik, Audio und Videos.\n",
    "\"\"\"\n",
    "\n",
    "assign_chain = RunnablePassthrough.assign(output=chain2)\n",
    "assign_output = assign_chain.invoke({\"text\": content})"
   ]
  },
  {
   "cell_type": "code",
   "execution_count": 24,
   "id": "599124ea-c5f1-4e8e-a817-6805d00975c9",
   "metadata": {},
   "outputs": [
    {
     "name": "stdout",
     "output_type": "stream",
     "text": [
      "Output of assign: \n",
      " {'text': '\\nGenerative KI oder generative künstliche Intelligenz bezieht sich auf die Verwendung von KI zum Erstellen neuer Inhalte wie Texte, Bilder, Musik, Audio und Videos.\\n', 'output': AIMessage(content='Generative AI, or generative artificial intelligence, refers to the use of AI to create new content such as text, images, music, audio, and videos. \\n', additional_kwargs={}, response_metadata={'prompt_feedback': {'block_reason': 0, 'safety_ratings': []}, 'finish_reason': 'STOP', 'safety_ratings': [{'category': 'HARM_CATEGORY_SEXUALLY_EXPLICIT', 'probability': 'NEGLIGIBLE', 'blocked': False}, {'category': 'HARM_CATEGORY_HATE_SPEECH', 'probability': 'NEGLIGIBLE', 'blocked': False}, {'category': 'HARM_CATEGORY_HARASSMENT', 'probability': 'NEGLIGIBLE', 'blocked': False}, {'category': 'HARM_CATEGORY_DANGEROUS_CONTENT', 'probability': 'NEGLIGIBLE', 'blocked': False}]}, id='run-a065d971-d58b-4bda-88e5-cbbf07488ce1-0', usage_metadata={'input_tokens': 43, 'output_tokens': 32, 'total_tokens': 75})}\n"
     ]
    }
   ],
   "source": [
    "print(\"Output of assign: \\n\", assign_output)"
   ]
  },
  {
   "cell_type": "code",
   "execution_count": null,
   "id": "adafc04c-0f4e-4b83-930a-d24497b7b15c",
   "metadata": {},
   "outputs": [],
   "source": []
  }
 ],
 "metadata": {
  "kernelspec": {
   "display_name": "Python 3 (ipykernel)",
   "language": "python",
   "name": "python3"
  },
  "language_info": {
   "codemirror_mode": {
    "name": "ipython",
    "version": 3
   },
   "file_extension": ".py",
   "mimetype": "text/x-python",
   "name": "python",
   "nbconvert_exporter": "python",
   "pygments_lexer": "ipython3",
   "version": "3.11.0"
  }
 },
 "nbformat": 4,
 "nbformat_minor": 5
}
